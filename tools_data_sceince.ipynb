{
 "cells": [
  {
   "cell_type": "markdown",
   "id": "be176550-58b3-4f96-9e55-e69c56c306e2",
   "metadata": {},
   "source": [
    "## Introduction\n",
    "\n",
    "Welcome to world of data science tools"
   ]
  },
  {
   "cell_type": "markdown",
   "id": "c77d654d-2f54-42b5-a9d8-9786457de2c1",
   "metadata": {},
   "source": [
    "## Data Science Languages\n",
    "When it comes to data science, several programming languages are commonly used.\n",
    "Python\n",
    "R\n",
    "Julia\n",
    "SQL\n"
   ]
  },
  {
   "cell_type": "markdown",
   "id": "87afa101-53b2-44d7-837c-70d2e9d55851",
   "metadata": {},
   "source": [
    "## Data Science Libraries\n",
    "\n",
    "In the data science ecosystem, there are numerous libraries \n",
    "\n",
    "### Python:\n",
    "- NumPy\n",
    "- pandas\n",
    "- Matplotlib\n",
    "- Seaborn\n",
    "- scikit-learn\n",
    "- TensorFlow\n",
    "- PyTorch"
   ]
  },
  {
   "cell_type": "markdown",
   "id": "25251689-cf99-412f-812b-f8337623af8b",
   "metadata": {
    "jupyter": {
     "source_hidden": true
    },
    "tags": []
   },
   "source": [
    "## Data Science Tools\n",
    "\n",
    "Data Management Tools: include Relational Databases, NoSQL Databases, and Big Data platforms:\n",
    "MySQL, and PostgreSQL are  and IBM Db2 and SQL Server \n",
    "MongoDB and Apache Cassandra are examples of NoSQL databases.\n",
    "Apache Hadoop and Apache Spark are used for Big Data analytics. \n",
    "Data Integration and Transformation Tools: include Apache Airflow and Apache Kafka. \n",
    "Data Visualization Tools: include commercial offerings such as Cognos Analytics, Tableau and PowerBI \n",
    "Jupyter Notebooks \n",
    "RStudio \n"
   ]
  },
  {
   "cell_type": "markdown",
   "id": "1a3fb21d-6377-4a8b-9b38-e271de8c0119",
   "metadata": {},
   "source": [
    "## Arithmetic Expression Examples\n",
    "\n",
    "Arithmetic expressions involve mathematical operations such as addition, subtraction, multiplication, and division. \n"
   ]
  },
  {
   "cell_type": "code",
   "execution_count": 1,
   "id": "f1f851b9-8bcc-470e-a63a-d08416f735a8",
   "metadata": {
    "tags": []
   },
   "outputs": [
    {
     "name": "stdout",
     "output_type": "stream",
     "text": [
      "20\n",
      "100\n"
     ]
    }
   ],
   "source": [
    "# Print sum and multiplication of given number\n",
    "a=10\n",
    "b=10\n",
    "\n",
    "sum=a+b\n",
    "mult=a*b\n",
    "\n",
    "print(sum)\n",
    "print(mult)\n"
   ]
  },
  {
   "cell_type": "code",
   "execution_count": 2,
   "id": "7b6f068e-d568-4c75-921d-f06ceb76a207",
   "metadata": {
    "tags": []
   },
   "outputs": [
    {
     "name": "stdout",
     "output_type": "stream",
     "text": [
      "120 minutes is equal to 2.0 hours.\n"
     ]
    }
   ],
   "source": [
    "# Function to convert minutes to hours\n",
    "\n",
    "minutes = 120\n",
    "hours = minutes / 60\n",
    "print(f\"{minutes} minutes is equal to {hours} hours.\")\n"
   ]
  },
  {
   "cell_type": "markdown",
   "id": "581be39a-e88f-408f-9dff-2b4ca72b867d",
   "metadata": {},
   "source": [
    "## list Objectives\n",
    "\n",
    "Introduction\n",
    "Data Science Languages\n",
    "Data Science Libraries\n",
    "Data Science Tools\n",
    "Arithmetic Expression Examples\n",
    "\n"
   ]
  },
  {
   "cell_type": "markdown",
   "id": "3e56f2a0-337c-44ea-b811-5711cb6c9bfa",
   "metadata": {},
   "source": [
    "## Author\n",
    "\n",
    "This notebook was created by SANDIP BHOSALE\n"
   ]
  }
 ],
 "metadata": {
  "kernelspec": {
   "display_name": "Python 3 (ipykernel)",
   "language": "python",
   "name": "python3"
  },
  "language_info": {
   "codemirror_mode": {
    "name": "ipython",
    "version": 3
   },
   "file_extension": ".py",
   "mimetype": "text/x-python",
   "name": "python",
   "nbconvert_exporter": "python",
   "pygments_lexer": "ipython3",
   "version": "3.11.5"
  }
 },
 "nbformat": 4,
 "nbformat_minor": 5
}
